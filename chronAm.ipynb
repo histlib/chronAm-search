{
 "cells": [
  {
   "cell_type": "code",
   "execution_count": 140,
   "id": "11b01d09-fda4-4097-b9d3-adf94ca5d257",
   "metadata": {},
   "outputs": [],
   "source": [
    "import pandas as pd\n",
    "import requests"
   ]
  },
  {
   "cell_type": "code",
   "execution_count": 141,
   "id": "f2225ffc-d2c8-47a1-85a8-11242f73f5fa",
   "metadata": {},
   "outputs": [
    {
     "name": "stdin",
     "output_type": "stream",
     "text": [
      "Enter your search term or terms: allum\n"
     ]
    }
   ],
   "source": [
    "text = input(\"Enter your search term or terms:\")"
   ]
  },
  {
   "cell_type": "code",
   "execution_count": 142,
   "id": "ffe6c28a-5782-48a0-843b-910d5c8e91a1",
   "metadata": {},
   "outputs": [
    {
     "name": "stdin",
     "output_type": "stream",
     "text": [
      "Enter the individual state you would like to search; leave blank if more than one: \n"
     ]
    }
   ],
   "source": [
    "state = input(\"Enter the individual state you would like to search; leave blank if more than one:\")"
   ]
  },
  {
   "cell_type": "code",
   "execution_count": 143,
   "id": "7c66aff3-739f-435a-b9cc-1c4027edeede",
   "metadata": {},
   "outputs": [
    {
     "name": "stdin",
     "output_type": "stream",
     "text": [
      "Enter the start date for your search: 1750\n"
     ]
    }
   ],
   "source": [
    "startDate = input(\"Enter the start date for your search:\")"
   ]
  },
  {
   "cell_type": "code",
   "execution_count": 144,
   "id": "4a798a39-efa0-46e1-9329-98448bcfb076",
   "metadata": {},
   "outputs": [
    {
     "name": "stdin",
     "output_type": "stream",
     "text": [
      "Enter the end date for your search: 1775\n"
     ]
    }
   ],
   "source": [
    "endDate = input(\"Enter the end date for your search:\")"
   ]
  },
  {
   "cell_type": "code",
   "execution_count": 145,
   "id": "8013a704-4a8e-4776-a5a5-e88c256780f5",
   "metadata": {},
   "outputs": [
    {
     "name": "stdin",
     "output_type": "stream",
     "text": [
      "Enter the number of results; entering 1000 or more really stalls this program: 200\n"
     ]
    }
   ],
   "source": [
    "rows = input(\"Enter the number of results; entering 1000 or more really stalls this program:\")"
   ]
  },
  {
   "cell_type": "code",
   "execution_count": 146,
   "id": "e9889c6b-ca23-47b0-8aa3-c8af02f5a75c",
   "metadata": {},
   "outputs": [],
   "source": [
    "data = requests.get(f'https://chroniclingamerica.loc.gov/search/pages/results/?state={state}&date1={startDate}&date2={endDate}&proxtext={text}&x=0&y=0&dateFilterType=yearRange&rows={rows}&searchType=basic&format=json').json()['items']"
   ]
  },
  {
   "cell_type": "code",
   "execution_count": 147,
   "id": "cf76cae9-d6e6-4141-a4c9-b66a90ec814e",
   "metadata": {},
   "outputs": [],
   "source": [
    "df = pd.DataFrame.from_dict(data)"
   ]
  },
  {
   "cell_type": "code",
   "execution_count": 148,
   "id": "91437786-8dea-4ac1-9f5b-d31010ade448",
   "metadata": {},
   "outputs": [],
   "source": [
    "df_new = df.filter(['title','city','state','date','ocr_eng','id'])"
   ]
  },
  {
   "cell_type": "code",
   "execution_count": 149,
   "id": "effa59a3-b878-43ce-8582-e54b99591bec",
   "metadata": {},
   "outputs": [],
   "source": [
    "page_url = []\n",
    "for item in df_new['id']:\n",
    "    page_url.append(f\"https://chroniclingamerica.loc.gov{item}#date1={startDate}&index=0&rows={rows}&words={text}&searchType=basic&sequence=0&state={state}&date2={endDate}&proxtext={text}&y=0&x=0&dateFilterType=yearRange&page=1\")"
   ]
  },
  {
   "cell_type": "code",
   "execution_count": 150,
   "id": "8fe494a4-8683-4269-8fc5-3e3430863991",
   "metadata": {},
   "outputs": [],
   "source": [
    "df_new['page_url'] = page_url"
   ]
  },
  {
   "cell_type": "code",
   "execution_count": 151,
   "id": "fabf63e2-8a42-4e2c-90af-1f6690434f88",
   "metadata": {},
   "outputs": [
    {
     "data": {
      "text/plain": [
       "city\n",
       "[Greenland, Portsmouth]    100\n",
       "[Boston]                    50\n",
       "[Portsmouth]                22\n",
       "Name: count, dtype: int64"
      ]
     },
     "execution_count": 151,
     "metadata": {},
     "output_type": "execute_result"
    }
   ],
   "source": [
    "df_new['city'].value_counts()"
   ]
  },
  {
   "cell_type": "code",
   "execution_count": 152,
   "id": "a9c67df5-b13c-4936-9195-a2b2e17a40e5",
   "metadata": {},
   "outputs": [],
   "source": [
    "df_new.to_csv(f\"chronAm-{text}.csv\")"
   ]
  },
  {
   "cell_type": "code",
   "execution_count": null,
   "id": "99eefe9c-0220-466d-bfa8-aefdbd9b6eed",
   "metadata": {},
   "outputs": [],
   "source": []
  },
  {
   "cell_type": "code",
   "execution_count": null,
   "id": "2f5d508d-ea73-48ed-99a2-551dd3ec65c8",
   "metadata": {},
   "outputs": [],
   "source": []
  }
 ],
 "metadata": {
  "kernelspec": {
   "display_name": "Python 3 (ipykernel)",
   "language": "python",
   "name": "python3"
  },
  "language_info": {
   "codemirror_mode": {
    "name": "ipython",
    "version": 3
   },
   "file_extension": ".py",
   "mimetype": "text/x-python",
   "name": "python",
   "nbconvert_exporter": "python",
   "pygments_lexer": "ipython3",
   "version": "3.11.7"
  }
 },
 "nbformat": 4,
 "nbformat_minor": 5
}
